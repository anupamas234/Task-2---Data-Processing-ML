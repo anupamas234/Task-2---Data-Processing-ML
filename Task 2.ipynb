{
 "cells": [
  {
   "cell_type": "markdown",
   "id": "b8eafbf4",
   "metadata": {},
   "source": [
    "Objective:\n",
    "The main objective of this project is to design and implement a robust data preprocessing system that addresses common challenges such as missing values, outliers, inconsistent formatting, and noise. By performing effective data preprocessing, the project aims to enhance the quality, reliability, and usefulness of the data for machine learning."
   ]
  },
  {
   "cell_type": "markdown",
   "id": "1dc124c8",
   "metadata": {},
   "source": [
    "Dataset: https://drive.google.com/file/d/1F3lRf32JM8ejnXq-Cbf9y7fa57zSHGz_/view?usp=sharing\n"
   ]
  },
  {
   "cell_type": "markdown",
   "id": "370d236d",
   "metadata": {},
   "source": [
    "Key Components to be fulfilled:\n",
    "\n",
    "Data Exploration: (Score : 1)\n",
    "Explore the data, list down the unique values in each feature and find its length.\n",
    "Perform the statistical analysis and renaming of the columns."
   ]
  },
  {
   "cell_type": "code",
   "execution_count": 1,
   "id": "fdde9e43",
   "metadata": {},
   "outputs": [
    {
     "name": "stdout",
     "output_type": "stream",
     "text": [
      "First few rows of the dataset:\n",
      "   Company   Age  Salary     Place Country  Gender\n",
      "0      TCS  20.0     NaN   Chennai   India       0\n",
      "1  Infosys  30.0     NaN    Mumbai   India       0\n",
      "2      TCS  35.0  2300.0  Calcutta   India       0\n",
      "3  Infosys  40.0  3000.0     Delhi   India       0\n",
      "4      TCS  23.0  4000.0    Mumbai   India       0\n",
      "Column: Company, Unique Values: 7, Values: ['TCS' 'Infosys' 'CTS' nan 'Tata Consultancy Services' 'Congnizant'\n",
      " 'Infosys Pvt Lmt']\n",
      "Column: Age, Unique Values: 30, Values: [20. 30. 35. 40. 23. nan 34. 45. 18. 22. 32. 37. 50. 21. 46. 36. 26. 41.\n",
      " 24. 25. 43. 19. 38. 51. 31. 44. 33. 17.  0. 54.]\n",
      "Column: Salary, Unique Values: 41, Values: [  nan 2300. 3000. 4000. 5000. 6000. 7000. 8000. 9000. 1089. 1234. 3030.\n",
      " 3045. 3184. 4824. 5835. 7084. 8943. 8345. 9284. 9876. 2034. 7654. 2934.\n",
      " 4034. 5034. 8202. 9024. 4345. 6544. 6543. 3234. 4324. 5435. 5555. 8787.\n",
      " 3454. 5654. 5009. 5098. 3033.]\n",
      "Column: Place, Unique Values: 12, Values: ['Chennai' 'Mumbai' 'Calcutta' 'Delhi' 'Podicherry' 'Cochin' nan 'Noida'\n",
      " 'Hyderabad' 'Bhopal' 'Nagpur' 'Pune']\n",
      "Column: Country, Unique Values: 1, Values: ['India']\n",
      "Column: Gender, Unique Values: 2, Values: [0 1]\n",
      "Statistical analysis of the dataset:\n",
      "              Age       Salary      Gender\n",
      "count  130.000000   124.000000  148.000000\n",
      "mean    30.484615  5312.467742    0.222973\n",
      "std     11.096640  2573.764683    0.417654\n",
      "min      0.000000  1089.000000    0.000000\n",
      "25%     22.000000  3030.000000    0.000000\n",
      "50%     32.500000  5000.000000    0.000000\n",
      "75%     37.750000  8000.000000    0.000000\n",
      "max     54.000000  9876.000000    1.000000\n",
      "DataFrame after renaming columns:\n",
      "   Company   Age  Salary     Place Country  Gender\n",
      "0      TCS  20.0     NaN   Chennai   India       0\n",
      "1  Infosys  30.0     NaN    Mumbai   India       0\n",
      "2      TCS  35.0  2300.0  Calcutta   India       0\n",
      "3  Infosys  40.0  3000.0     Delhi   India       0\n",
      "4      TCS  23.0  4000.0    Mumbai   India       0\n"
     ]
    }
   ],
   "source": [
    "import pandas as pd\n",
    "\n",
    "# Load the dataset (make sure to adjust the file path as necessary)\n",
    "url = 'https://drive.google.com/uc?id=1F3lRf32JM8ejnXq-Cbf9y7fa57zSHGz_'  # Google Drive direct link\n",
    "df = pd.read_csv(url)\n",
    "\n",
    "# Display the first few rows of the dataset\n",
    "print(\"First few rows of the dataset:\")\n",
    "print(df.head())\n",
    "\n",
    "# Step 3: List unique values and their lengths for each feature\n",
    "for column in df.columns:\n",
    "    unique_values = df[column].unique()\n",
    "    print(f\"Column: {column}, Unique Values: {len(unique_values)}, Values: {unique_values}\")\n",
    "\n",
    "# Step 4: Perform statistical analysis\n",
    "print(\"Statistical analysis of the dataset:\")\n",
    "print(df.describe())\n",
    "\n",
    "# Step 5: Rename columns if necessary (example of renaming)\n",
    "df.rename(columns={'old_column_name': 'new_column_name'}, inplace=True)\n",
    "\n",
    "# Display the dataframe after renaming\n",
    "print(\"DataFrame after renaming columns:\")\n",
    "print(df.head())\n"
   ]
  },
  {
   "cell_type": "markdown",
   "id": "7b56f0e8",
   "metadata": {},
   "source": [
    "Data Cleaning: (Score : 2)\n",
    "Find the missing and inappropriate values, treat them appropriately.\n",
    "Remove all duplicate rows.\n",
    "Find the outliers.\n",
    "Replace the value 0 in age as NaN\n",
    "Treat the null values in all columns using any measures(removing/ replace the values with mean/median/mode)"
   ]
  },
  {
   "cell_type": "markdown",
   "id": "3ec045c7",
   "metadata": {},
   "source": [
    "Identify and Treat Missing Values"
   ]
  },
  {
   "cell_type": "markdown",
   "id": "40392a89",
   "metadata": {},
   "source": [
    "Remove Duplicate Rows"
   ]
  },
  {
   "cell_type": "markdown",
   "id": "6cadbd59",
   "metadata": {},
   "source": [
    "Find Outliers"
   ]
  },
  {
   "cell_type": "markdown",
   "id": "36644e8a",
   "metadata": {},
   "source": [
    "Implement the Cleaning Steps"
   ]
  },
  {
   "cell_type": "code",
   "execution_count": 4,
   "id": "a51b399a",
   "metadata": {},
   "outputs": [
    {
     "name": "stdout",
     "output_type": "stream",
     "text": [
      "Column names in the DataFrame:\n",
      "Index(['Company', 'Age', 'Salary', 'Place', 'Country', 'Gender'], dtype='object')\n"
     ]
    }
   ],
   "source": [
    "print(\"Column names in the DataFrame:\")\n",
    "print(df.columns)\n"
   ]
  },
  {
   "cell_type": "code",
   "execution_count": 6,
   "id": "5402d4b9",
   "metadata": {},
   "outputs": [
    {
     "name": "stdout",
     "output_type": "stream",
     "text": [
      "Column names in the DataFrame:\n",
      "Index(['Company', 'Age', 'Salary', 'Place', 'Country', 'Gender'], dtype='object')\n",
      "Initial missing values in each column:\n",
      "Company     8\n",
      "Age        18\n",
      "Salary     24\n",
      "Place      14\n",
      "Country     0\n",
      "Gender      0\n",
      "dtype: int64\n",
      "Number of outliers detected: 32\n",
      "Cleaned DataFrame:\n",
      "   Company   Age  Salary     Place Country  Gender\n",
      "0      TCS  20.0  5000.0   Chennai   India       0\n",
      "1  Infosys  30.0  5000.0    Mumbai   India       0\n",
      "2      TCS  35.0  2300.0  Calcutta   India       0\n",
      "3  Infosys  40.0  3000.0     Delhi   India       0\n",
      "4      TCS  23.0  4000.0    Mumbai   India       0\n"
     ]
    },
    {
     "name": "stderr",
     "output_type": "stream",
     "text": [
      "<ipython-input-6-3b44d31ae87b>:43: FutureWarning: Automatic reindexing on DataFrame vs Series comparisons is deprecated and will raise ValueError in a future version.  Do `left, right = left.align(right, axis=1, copy=False)` before e.g. `left == right`\n",
      "  outliers = ((df < lower_bound) | (df > upper_bound)).any(axis=1)\n",
      "<ipython-input-6-3b44d31ae87b>:43: FutureWarning: Automatic reindexing on DataFrame vs Series comparisons is deprecated and will raise ValueError in a future version.  Do `left, right = left.align(right, axis=1, copy=False)` before e.g. `left == right`\n",
      "  outliers = ((df < lower_bound) | (df > upper_bound)).any(axis=1)\n"
     ]
    }
   ],
   "source": [
    "import pandas as pd\n",
    "import numpy as np\n",
    "\n",
    "# Load the dataset\n",
    "url = 'https://drive.google.com/uc?id=1F3lRf32JM8ejnXq-Cbf9y7fa57zSHGz_'  # Google Drive direct link\n",
    "df = pd.read_csv(url)\n",
    "\n",
    "# Step 1: Check the column names\n",
    "print(\"Column names in the DataFrame:\")\n",
    "print(df.columns)\n",
    "\n",
    "# Step 2: Identify and treat missing values\n",
    "print(\"Initial missing values in each column:\")\n",
    "print(df.isnull().sum())\n",
    "\n",
    "# Replace 0 in 'Age' column with NaN (assuming it's correctly named)\n",
    "df['Age'].replace(0, np.nan, inplace=True)\n",
    "\n",
    "# Check for inappropriate values (assuming age should not be negative)\n",
    "df.loc[df['Age'] < 0, 'Age'] = np.nan  # Correctly set negative ages to NaN\n",
    "\n",
    "# Step 3: Remove duplicates\n",
    "df.drop_duplicates(inplace=True)\n",
    "\n",
    "# Step 4: Handle missing values\n",
    "# Fill missing values with mean, median, or mode\n",
    "for column in df.select_dtypes(include=['float64', 'int64']).columns:\n",
    "    df[column].fillna(df[column].median(), inplace=True)\n",
    "\n",
    "for column in df.select_dtypes(include=['object']).columns:\n",
    "    df[column].fillna(df[column].mode()[0], inplace=True)\n",
    "\n",
    "# Step 5: Find outliers using the IQR method\n",
    "Q1 = df.quantile(0.25)\n",
    "Q3 = df.quantile(0.75)\n",
    "IQR = Q3 - Q1\n",
    "\n",
    "# Define outlier thresholds\n",
    "lower_bound = Q1 - 1.5 * IQR\n",
    "upper_bound = Q3 + 1.5 * IQR\n",
    "\n",
    "# Identify outliers\n",
    "outliers = ((df < lower_bound) | (df > upper_bound)).any(axis=1)\n",
    "print(f\"Number of outliers detected: {outliers.sum()}\")\n",
    "\n",
    "# Optional: Remove outliers if needed\n",
    "df_no_outliers = df[~outliers]\n",
    "\n",
    "# Display the cleaned DataFrame\n",
    "print(\"Cleaned DataFrame:\")\n",
    "print(df_no_outliers.head())\n"
   ]
  },
  {
   "cell_type": "markdown",
   "id": "f3efabb6",
   "metadata": {},
   "source": [
    "# Q2"
   ]
  },
  {
   "cell_type": "markdown",
   "id": "005777cd",
   "metadata": {},
   "source": [
    "Data Analysis: (Score : 2)\n",
    "Filter the data with age >40 and salary<5000\n",
    "Plot the chart with age and salary\n",
    "Count the number of people from each place and represent it visually\n"
   ]
  },
  {
   "cell_type": "markdown",
   "id": "e18c0a24",
   "metadata": {},
   "source": [
    "Filter the Data"
   ]
  },
  {
   "cell_type": "markdown",
   "id": "05de3206",
   "metadata": {},
   "source": [
    "Plot a Chart:"
   ]
  },
  {
   "cell_type": "markdown",
   "id": "951442d8",
   "metadata": {},
   "source": [
    "Count the Number of People from Each Place:"
   ]
  },
  {
   "cell_type": "code",
   "execution_count": 7,
   "id": "5e2fcc78",
   "metadata": {},
   "outputs": [
    {
     "data": {
      "image/png": "[encoded data removed]",
      "text/plain": [
       "<Figure size 720x432 with 1 Axes>"
      ]
     },
     "metadata": {
      "needs_background": "light"
     },
     "output_type": "display_data"
    },
    {
     "name": "stderr",
     "output_type": "stream",
     "text": [
      "<ipython-input-7-704eac446d97>:27: FutureWarning: \n",
      "\n",
      "Passing `palette` without assigning `hue` is deprecated and will be removed in v0.14.0. Assign the `x` variable to `hue` and set `legend=False` for the same effect.\n",
      "\n",
      "  sns.barplot(x=place_counts.index, y=place_counts.values, palette='viridis')\n"
     ]
    },
    {
     "data": {
      "image/png": "[encoded data removed]",
      "text/plain": [
       "<Figure size 864x432 with 1 Axes>"
      ]
     },
     "metadata": {
      "needs_background": "light"
     },
     "output_type": "display_data"
    }
   ],
   "source": [
    "import pandas as pd\n",
    "import numpy as np\n",
    "import matplotlib.pyplot as plt\n",
    "import seaborn as sns\n",
    "\n",
    "# Load the dataset\n",
    "url = 'https://drive.google.com/uc?id=1F3lRf32JM8ejnXq-Cbf9y7fa57zSHGz_'  # Google Drive direct link\n",
    "df = pd.read_csv(url)\n",
    "\n",
    "# Step 1: Filter data for Age > 40 and Salary < 5000\n",
    "filtered_data = df[(df['Age'] > 40) & (df['Salary'] < 5000)]\n",
    "\n",
    "# Step 2: Plot the relationship between Age and Salary\n",
    "plt.figure(figsize=(10, 6))\n",
    "sns.scatterplot(data=filtered_data, x='Age', y='Salary', color='blue')\n",
    "plt.title('Scatter Plot of Age vs Salary (Age > 40 & Salary < 5000)')\n",
    "plt.xlabel('Age')\n",
    "plt.ylabel('Salary')\n",
    "plt.grid()\n",
    "plt.show()\n",
    "\n",
    "# Step 3: Count the number of people from each place\n",
    "place_counts = df['Place'].value_counts()\n",
    "\n",
    "# Step 4: Visualize the counts of people from each place\n",
    "plt.figure(figsize=(12, 6))\n",
    "sns.barplot(x=place_counts.index, y=place_counts.values, palette='viridis')\n",
    "plt.title('Number of People from Each Place')\n",
    "plt.xlabel('Place')\n",
    "plt.ylabel('Count')\n",
    "plt.xticks(rotation=45)\n",
    "plt.show()\n"
   ]
  },
  {
   "cell_type": "markdown",
   "id": "316aa1a0",
   "metadata": {},
   "source": [
    "# Q3"
   ]
  },
  {
   "cell_type": "markdown",
   "id": "6be82424",
   "metadata": {},
   "source": [
    "Data Encoding: (Score : 2)\n",
    "Convert categorical variables into numerical representations using techniques such as one-hot encoding, label encoding, making them suitable for analysis by machine learning algorithms."
   ]
  },
  {
   "cell_type": "markdown",
   "id": "3f4adff6",
   "metadata": {},
   "source": [
    "Identify Categorical Variables"
   ]
  },
  {
   "cell_type": "markdown",
   "id": "d947d516",
   "metadata": {},
   "source": [
    "Apply Encoding"
   ]
  },
  {
   "cell_type": "code",
   "execution_count": 9,
   "id": "6468a725",
   "metadata": {},
   "outputs": [
    {
     "name": "stdout",
     "output_type": "stream",
     "text": [
      "Categorical Columns: ['Company', 'Place', 'Country']\n",
      "Original DataFrame Shape: (148, 6)\n",
      "Encoded DataFrame Shape: (148, 18)\n",
      "    Age  Salary  Gender  Company_Congnizant  Company_Infosys  \\\n",
      "0  20.0     NaN       0                   0                0   \n",
      "1  30.0     NaN       0                   0                1   \n",
      "2  35.0  2300.0       0                   0                0   \n",
      "3  40.0  3000.0       0                   0                1   \n",
      "4  23.0  4000.0       0                   0                0   \n",
      "\n",
      "   Company_Infosys Pvt Lmt  Company_TCS  Company_Tata Consultancy Services  \\\n",
      "0                        0            1                                  0   \n",
      "1                        0            0                                  0   \n",
      "2                        0            1                                  0   \n",
      "3                        0            0                                  0   \n",
      "4                        0            1                                  0   \n",
      "\n",
      "   Place_Calcutta  Place_Chennai  Place_Cochin  Place_Delhi  Place_Hyderabad  \\\n",
      "0               0              1             0            0                0   \n",
      "1               0              0             0            0                0   \n",
      "2               1              0             0            0                0   \n",
      "3               0              0             0            1                0   \n",
      "4               0              0             0            0                0   \n",
      "\n",
      "   Place_Mumbai  Place_Nagpur  Place_Noida  Place_Podicherry  Place_Pune  \n",
      "0             0             0            0                 0           0  \n",
      "1             1             0            0                 0           0  \n",
      "2             0             0            0                 0           0  \n",
      "3             0             0            0                 0           0  \n",
      "4             1             0            0                 0           0  \n"
     ]
    }
   ],
   "source": [
    "import pandas as pd\n",
    "\n",
    "# Load the dataset\n",
    "url = 'https://drive.google.com/uc?id=1F3lRf32JM8ejnXq-Cbf9y7fa57zSHGz_'  # Google Drive direct link\n",
    "df = pd.read_csv(url)\n",
    "\n",
    "# Step 1: Identify categorical variables\n",
    "categorical_cols = df.select_dtypes(include=['object']).columns.tolist()\n",
    "\n",
    "# Display the categorical columns\n",
    "print(\"Categorical Columns:\", categorical_cols)\n",
    "\n",
    "# Step 2: Apply One-Hot Encoding\n",
    "df_encoded = pd.get_dummies(df, columns=categorical_cols, drop_first=True)\n",
    "\n",
    "# Display the shape of the original and encoded DataFrame\n",
    "print(\"Original DataFrame Shape:\", df.shape)\n",
    "print(\"Encoded DataFrame Shape:\", df_encoded.shape)\n",
    "\n",
    "# Display the first few rows of the encoded DataFrame\n",
    "print(df_encoded.head())\n"
   ]
  },
  {
   "cell_type": "code",
   "execution_count": 11,
   "id": "64737d16",
   "metadata": {},
   "outputs": [
    {
     "name": "stdout",
     "output_type": "stream",
     "text": [
      "Columns in the DataFrame: ['Company', 'Age', 'Salary', 'Place', 'Country', 'Gender']\n"
     ]
    }
   ],
   "source": [
    "import pandas as pd\n",
    "\n",
    "# Load the dataset\n",
    "url = 'https://drive.google.com/uc?id=1F3lRf32JM8ejnXq-Cbf9y7fa57zSHGz_'  # Google Drive direct link\n",
    "df = pd.read_csv(url)\n",
    "\n",
    "# Step 1: Display the columns in the DataFrame\n",
    "print(\"Columns in the DataFrame:\", df.columns.tolist())\n"
   ]
  },
  {
   "cell_type": "markdown",
   "id": "265115c6",
   "metadata": {},
   "source": [
    "Label Encoding"
   ]
  },
  {
   "cell_type": "code",
   "execution_count": 12,
   "id": "436ce9b6",
   "metadata": {},
   "outputs": [
    {
     "name": "stdout",
     "output_type": "stream",
     "text": [
      "0      0\n",
      "1      0\n",
      "2      0\n",
      "3      0\n",
      "4      0\n",
      "      ..\n",
      "143    1\n",
      "144    1\n",
      "145    1\n",
      "146    1\n",
      "147    0\n",
      "Name: Gender, Length: 148, dtype: int64\n"
     ]
    }
   ],
   "source": [
    "from sklearn.preprocessing import LabelEncoder\n",
    "\n",
    "# Initialize Label Encoder\n",
    "label_encoder = LabelEncoder()\n",
    "\n",
    "# Apply label encoding to 'Gender'\n",
    "df['Gender'] = label_encoder.fit_transform(df['Gender'])\n",
    "\n",
    "# Display the transformed DataFrame\n",
    "print(df['Gender'])\n"
   ]
  },
  {
   "cell_type": "markdown",
   "id": "68b4c744",
   "metadata": {},
   "source": [
    "# Q4"
   ]
  },
  {
   "cell_type": "markdown",
   "id": "d18d2cb6",
   "metadata": {},
   "source": [
    "Feature Scaling: (Score : 2)\n",
    "After the process of encoding, perform the scaling of the features using standardscaler and minmaxscaler."
   ]
  },
  {
   "cell_type": "code",
   "execution_count": 13,
   "id": "b6a4fc61",
   "metadata": {},
   "outputs": [
    {
     "name": "stdout",
     "output_type": "stream",
     "text": [
      "Standard Scaled DataFrame:\n",
      "    Company_A  Company_B       Age    Salary  Place_X  Place_Y  Country_USA  \\\n",
      "0          1          0 -1.414214 -1.414214        1        0            1   \n",
      "1          0          1 -0.707107 -0.707107        0        1            1   \n",
      "2          0          0  0.000000  0.000000        0        0            0   \n",
      "3          1          0  0.707107  0.707107        1        0            1   \n",
      "4          0          1  1.414214  1.414214        0        1            0   \n",
      "\n",
      "   Country_Canada  Gender_M  \n",
      "0               0         1  \n",
      "1               0         0  \n",
      "2               1         1  \n",
      "3               0         0  \n",
      "4               1         1  \n",
      "\n",
      "Min-Max Scaled DataFrame:\n",
      "    Company_A  Company_B   Age  Salary  Place_X  Place_Y  Country_USA  \\\n",
      "0          1          0  0.00    0.00        1        0            1   \n",
      "1          0          1  0.25    0.25        0        1            1   \n",
      "2          0          0  0.50    0.50        0        0            0   \n",
      "3          1          0  0.75    0.75        1        0            1   \n",
      "4          0          1  1.00    1.00        0        1            0   \n",
      "\n",
      "   Country_Canada  Gender_M  \n",
      "0               0         1  \n",
      "1               0         0  \n",
      "2               1         1  \n",
      "3               0         0  \n",
      "4               1         1  \n"
     ]
    }
   ],
   "source": [
    "import pandas as pd\n",
    "from sklearn.preprocessing import StandardScaler, MinMaxScaler\n",
    "\n",
    "# Sample DataFrame for illustration\n",
    "data = {\n",
    "    'Company_A': [1, 0, 0, 1, 0],\n",
    "    'Company_B': [0, 1, 0, 0, 1],\n",
    "    'Age': [25, 30, 35, 40, 45],\n",
    "    'Salary': [5000, 6000, 7000, 8000, 9000],\n",
    "    'Place_X': [1, 0, 0, 1, 0],\n",
    "    'Place_Y': [0, 1, 0, 0, 1],\n",
    "    'Country_USA': [1, 1, 0, 1, 0],\n",
    "    'Country_Canada': [0, 0, 1, 0, 1],\n",
    "    'Gender_M': [1, 0, 1, 0, 1]\n",
    "}\n",
    "\n",
    "df_encoded = pd.DataFrame(data)\n",
    "\n",
    "# Initialize the scalers\n",
    "standard_scaler = StandardScaler()\n",
    "minmax_scaler = MinMaxScaler()\n",
    "\n",
    "# Features to scale\n",
    "features_to_scale = ['Age', 'Salary']\n",
    "\n",
    "# Standard Scaling\n",
    "df_encoded[features_to_scale] = standard_scaler.fit_transform(df_encoded[features_to_scale])\n",
    "\n",
    "# Min-Max Scaling\n",
    "# You can also create a separate DataFrame for min-max scaled values\n",
    "df_minmax_scaled = df_encoded.copy()\n",
    "df_minmax_scaled[features_to_scale] = minmax_scaler.fit_transform(df_encoded[features_to_scale])\n",
    "\n",
    "# Display the transformed DataFrames\n",
    "print(\"Standard Scaled DataFrame:\\n\", df_encoded)\n",
    "print(\"\\nMin-Max Scaled DataFrame:\\n\", df_minmax_scaled)\n"
   ]
  },
  {
   "cell_type": "code",
   "execution_count": null,
   "id": "359aa052",
   "metadata": {},
   "outputs": [],
   "source": []
  }
 ],
 "metadata": {
  "kernelspec": {
   "display_name": "Python 3",
   "language": "python",
   "name": "python3"
  },
  "language_info": {
   "codemirror_mode": {
    "name": "ipython",
    "version": 3
   },
   "file_extension": ".py",
   "mimetype": "text/x-python",
   "name": "python",
   "nbconvert_exporter": "python",
   "pygments_lexer": "ipython3",
   "version": "3.8.8"
  }
 },
 "nbformat": 4,
 "nbformat_minor": 5
}
